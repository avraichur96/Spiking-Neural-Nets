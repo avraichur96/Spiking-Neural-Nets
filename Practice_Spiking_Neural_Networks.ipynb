{
  "nbformat": 4,
  "nbformat_minor": 0,
  "metadata": {
    "colab": {
      "provenance": [],
      "authorship_tag": "ABX9TyPlKT9i/MywfNyEVCThvOfm",
      "include_colab_link": true
    },
    "kernelspec": {
      "name": "python3",
      "display_name": "Python 3"
    },
    "language_info": {
      "name": "python"
    }
  },
  "cells": [
    {
      "cell_type": "markdown",
      "metadata": {
        "id": "view-in-github",
        "colab_type": "text"
      },
      "source": [
        "<a href=\"https://colab.research.google.com/github/avraichur96/Spiking-Neural-Nets/blob/main/Practice_Spiking_Neural_Networks.ipynb\" target=\"_parent\"><img src=\"https://colab.research.google.com/assets/colab-badge.svg\" alt=\"Open In Colab\"/></a>"
      ]
    },
    {
      "cell_type": "markdown",
      "source": [
        "First things first, we do not have to reinvent the wheel and need something to do stuff like rate encoding and simulate the leaky integrate and fire neuron. SNNTORCH to the rescue!"
      ],
      "metadata": {
        "id": "VvUIx_noydJt"
      }
    },
    {
      "cell_type": "code",
      "execution_count": 5,
      "metadata": {
        "colab": {
          "base_uri": "https://localhost:8080/"
        },
        "id": "AtZqcVYKSAzz",
        "outputId": "998082fc-d03f-4560-e683-dbfa7221db19"
      },
      "outputs": [
        {
          "output_type": "stream",
          "name": "stdout",
          "text": [
            "Requirement already satisfied: snntorch in /usr/local/lib/python3.10/dist-packages (0.9.1)\n",
            "Requirement already satisfied: torch>=1.1.0 in /usr/local/lib/python3.10/dist-packages (from snntorch) (2.5.1+cu121)\n",
            "Requirement already satisfied: pandas in /usr/local/lib/python3.10/dist-packages (from snntorch) (2.2.2)\n",
            "Requirement already satisfied: matplotlib in /usr/local/lib/python3.10/dist-packages (from snntorch) (3.8.0)\n",
            "Requirement already satisfied: numpy>=1.17 in /usr/local/lib/python3.10/dist-packages (from snntorch) (1.26.4)\n",
            "Requirement already satisfied: nir in /usr/local/lib/python3.10/dist-packages (from snntorch) (1.0.4)\n",
            "Requirement already satisfied: nirtorch in /usr/local/lib/python3.10/dist-packages (from snntorch) (1.0)\n",
            "Requirement already satisfied: filelock in /usr/local/lib/python3.10/dist-packages (from torch>=1.1.0->snntorch) (3.16.1)\n",
            "Requirement already satisfied: typing-extensions>=4.8.0 in /usr/local/lib/python3.10/dist-packages (from torch>=1.1.0->snntorch) (4.12.2)\n",
            "Requirement already satisfied: networkx in /usr/local/lib/python3.10/dist-packages (from torch>=1.1.0->snntorch) (3.4.2)\n",
            "Requirement already satisfied: jinja2 in /usr/local/lib/python3.10/dist-packages (from torch>=1.1.0->snntorch) (3.1.4)\n",
            "Requirement already satisfied: fsspec in /usr/local/lib/python3.10/dist-packages (from torch>=1.1.0->snntorch) (2024.10.0)\n",
            "Requirement already satisfied: sympy==1.13.1 in /usr/local/lib/python3.10/dist-packages (from torch>=1.1.0->snntorch) (1.13.1)\n",
            "Requirement already satisfied: mpmath<1.4,>=1.1.0 in /usr/local/lib/python3.10/dist-packages (from sympy==1.13.1->torch>=1.1.0->snntorch) (1.3.0)\n",
            "Requirement already satisfied: contourpy>=1.0.1 in /usr/local/lib/python3.10/dist-packages (from matplotlib->snntorch) (1.3.1)\n",
            "Requirement already satisfied: cycler>=0.10 in /usr/local/lib/python3.10/dist-packages (from matplotlib->snntorch) (0.12.1)\n",
            "Requirement already satisfied: fonttools>=4.22.0 in /usr/local/lib/python3.10/dist-packages (from matplotlib->snntorch) (4.54.1)\n",
            "Requirement already satisfied: kiwisolver>=1.0.1 in /usr/local/lib/python3.10/dist-packages (from matplotlib->snntorch) (1.4.7)\n",
            "Requirement already satisfied: packaging>=20.0 in /usr/local/lib/python3.10/dist-packages (from matplotlib->snntorch) (24.2)\n",
            "Requirement already satisfied: pillow>=6.2.0 in /usr/local/lib/python3.10/dist-packages (from matplotlib->snntorch) (11.0.0)\n",
            "Requirement already satisfied: pyparsing>=2.3.1 in /usr/local/lib/python3.10/dist-packages (from matplotlib->snntorch) (3.2.0)\n",
            "Requirement already satisfied: python-dateutil>=2.7 in /usr/local/lib/python3.10/dist-packages (from matplotlib->snntorch) (2.8.2)\n",
            "Requirement already satisfied: h5py in /usr/local/lib/python3.10/dist-packages (from nir->snntorch) (3.12.1)\n",
            "Requirement already satisfied: pytz>=2020.1 in /usr/local/lib/python3.10/dist-packages (from pandas->snntorch) (2024.2)\n",
            "Requirement already satisfied: tzdata>=2022.7 in /usr/local/lib/python3.10/dist-packages (from pandas->snntorch) (2024.2)\n",
            "Requirement already satisfied: six>=1.5 in /usr/local/lib/python3.10/dist-packages (from python-dateutil>=2.7->matplotlib->snntorch) (1.16.0)\n",
            "Requirement already satisfied: MarkupSafe>=2.0 in /usr/local/lib/python3.10/dist-packages (from jinja2->torch>=1.1.0->snntorch) (3.0.2)\n"
          ]
        }
      ],
      "source": [
        "pip install snntorch\n"
      ]
    },
    {
      "cell_type": "markdown",
      "source": [
        "Lets proceed to load MNIST data and some data loader. MNIST is always best when trying to gain an intuitive understanding of any neural net. SNNtorch has In built helpers like transform that take care of the usual data normalization techniques reducing the amount of redundant code to be written.(scaling,    padding bits etc.)\n"
      ],
      "metadata": {
        "id": "dfHLgjtjoZHt"
      }
    },
    {
      "cell_type": "code",
      "source": [
        "import snntorch as snn\n",
        "import torch\n",
        "\n",
        "batch_size=128\n",
        "data_path='/tmp/data/mnist'\n",
        "num_classes = 10  # MNIST has 10 output classes\n",
        "\n",
        "# Torch Variables\n",
        "dtype = torch.float\n",
        "\n",
        "from torchvision import datasets, transforms\n",
        "\n",
        "# Define a transform\n",
        "transform = transforms.Compose([\n",
        "            transforms.Resize((28,28)),\n",
        "            transforms.Grayscale(),\n",
        "            transforms.ToTensor(),\n",
        "            transforms.Normalize((0,), (1,))])\n",
        "\n",
        "mnist_train = datasets.MNIST(data_path, train=True, download=True, transform=transform)\n"
      ],
      "metadata": {
        "id": "G4duVMk8oYUf"
      },
      "execution_count": 6,
      "outputs": []
    },
    {
      "cell_type": "code",
      "source": [
        "from snntorch import utils\n",
        "\n",
        "subset = 10\n",
        "mnist_train = utils.data_subset(mnist_train, subset)\n",
        "print(f\"The size of mnist_train is {len(mnist_train)}\")"
      ],
      "metadata": {
        "colab": {
          "base_uri": "https://localhost:8080/"
        },
        "id": "6i1TY7ZnpURt",
        "outputId": "1dbb187a-e66e-4781-cefc-ddf714f50069"
      },
      "execution_count": 7,
      "outputs": [
        {
          "output_type": "stream",
          "name": "stdout",
          "text": [
            "The size of mnist_train is 6000\n"
          ]
        }
      ]
    },
    {
      "cell_type": "code",
      "source": [
        "from torch.utils.data import DataLoader\n",
        "\n",
        "train_loader = DataLoader(mnist_train, batch_size=batch_size, shuffle=True)"
      ],
      "metadata": {
        "id": "NtDOZJoJpXt-"
      },
      "execution_count": 8,
      "outputs": []
    },
    {
      "cell_type": "code",
      "source": [
        "from snntorch import spikegen\n",
        "\n",
        "# Iterate through minibatches\n",
        "data = iter(train_loader)\n",
        "data_it, targets_it = next(data)\n",
        "num_steps = 10\n",
        "print(data_it.size())\n",
        "\n",
        "# Spiking Data\n",
        "spike_data = spikegen.rate(data_it, num_steps=num_steps)\n"
      ],
      "metadata": {
        "colab": {
          "base_uri": "https://localhost:8080/"
        },
        "id": "gC8-Ptgho77Y",
        "outputId": "8350f142-9075-4272-8067-a87b015b19d7"
      },
      "execution_count": 9,
      "outputs": [
        {
          "output_type": "stream",
          "name": "stdout",
          "text": [
            "torch.Size([128, 1, 28, 28])\n"
          ]
        }
      ]
    },
    {
      "cell_type": "markdown",
      "source": [
        "I need to understand more about rate coding and spike generation in probabilistic way. In the sense that if you define a rate coding of say 10 timesteps and your probability value is 0.45 it means each at each timestep you sample from the fire or not fire with 45% chance\n",
        "\n",
        "Now this is what I live for! actually being able to feel an image from the perspective of a leaky bunch of neurons and capture it visually."
      ],
      "metadata": {
        "id": "0Tj9-vprsm9E"
      }
    },
    {
      "cell_type": "code",
      "source": [
        "import matplotlib.pyplot as plt\n",
        "import snntorch.spikeplot as splt\n",
        "from IPython.display import HTML\n",
        "\n",
        "spike_data_sample = spike_data[:, 0, 0]\n",
        "print(spike_data_sample.size())\n",
        "\n",
        "fig, ax = plt.subplots()\n",
        "anim = splt.animator(spike_data_sample, fig, ax)\n",
        "# plt.rcParams['animation.ffmpeg_path'] = 'C:\\\\path\\\\to\\\\your\\\\ffmpeg.exe'\n",
        "\n",
        "HTML(anim.to_html5_video())"
      ],
      "metadata": {
        "colab": {
          "base_uri": "https://localhost:8080/",
          "height": 908
        },
        "id": "FoKdNK9iqdqx",
        "outputId": "1872f06b-db8a-470d-afcf-3112031b3966"
      },
      "execution_count": 10,
      "outputs": [
        {
          "output_type": "stream",
          "name": "stdout",
          "text": [
            "torch.Size([10, 28, 28])\n"
          ]
        },
        {
          "output_type": "execute_result",
          "data": {
            "text/plain": [
              "<IPython.core.display.HTML object>"
            ],
            "text/html": [
              "<video width=\"640\" height=\"480\" controls autoplay loop>\n",
              "  <source type=\"video/mp4\" src=\"data:video/mp4;base64,AAAAIGZ0eXBNNFYgAAACAE00ViBpc29taXNvMmF2YzEAAAAIZnJlZQAAE49tZGF0AAACrgYF//+q\n",
              "3EXpvebZSLeWLNgg2SPu73gyNjQgLSBjb3JlIDE2MyByMzA2MCA1ZGI2YWE2IC0gSC4yNjQvTVBF\n",
              "Ry00IEFWQyBjb2RlYyAtIENvcHlsZWZ0IDIwMDMtMjAyMSAtIGh0dHA6Ly93d3cudmlkZW9sYW4u\n",
              "b3JnL3gyNjQuaHRtbCAtIG9wdGlvbnM6IGNhYmFjPTEgcmVmPTMgZGVibG9jaz0xOjA6MCBhbmFs\n",
              "eXNlPTB4MzoweDExMyBtZT1oZXggc3VibWU9NyBwc3k9MSBwc3lfcmQ9MS4wMDowLjAwIG1peGVk\n",
              "X3JlZj0xIG1lX3JhbmdlPTE2IGNocm9tYV9tZT0xIHRyZWxsaXM9MSA4eDhkY3Q9MSBjcW09MCBk\n",
              "ZWFkem9uZT0yMSwxMSBmYXN0X3Bza2lwPTEgY2hyb21hX3FwX29mZnNldD0tMiB0aHJlYWRzPTMg\n",
              "bG9va2FoZWFkX3RocmVhZHM9MSBzbGljZWRfdGhyZWFkcz0wIG5yPTAgZGVjaW1hdGU9MSBpbnRl\n",
              "cmxhY2VkPTAgYmx1cmF5X2NvbXBhdD0wIGNvbnN0cmFpbmVkX2ludHJhPTAgYmZyYW1lcz0zIGJf\n",
              "cHlyYW1pZD0yIGJfYWRhcHQ9MSBiX2JpYXM9MCBkaXJlY3Q9MSB3ZWlnaHRiPTEgb3Blbl9nb3A9\n",
              "MCB3ZWlnaHRwPTIga2V5aW50PTI1MCBrZXlpbnRfbWluPTI1IHNjZW5lY3V0PTQwIGludHJhX3Jl\n",
              "ZnJlc2g9MCByY19sb29rYWhlYWQ9NDAgcmM9Y3JmIG1idHJlZT0xIGNyZj0yMy4wIHFjb21wPTAu\n",
              "NjAgcXBtaW49MCBxcG1heD02OSBxcHN0ZXA9NCBpcF9yYXRpbz0xLjQwIGFxPTE6MS4wMACAAAAF\n",
              "JGWIhAA3//728P4FNjuY0JcRzeidMx+/Fbi6NDe9zgAAAwAAAwAAAwG5pYX/dnfziCAAAAMAdsAV\n",
              "r+/ghHykAbz5O9xVg5cnNkqw1UVI3VnVI+3uxivjadJe6lOVcQOJCFz5B4ExJ5OtflF95OhgT1o/\n",
              "LSd/unP8lYYv7HNAZDXY8mZoHAwh3H1CjAkQARJ2+ss/fr9iniyGB0jRn9VDHbheUNmqVHZ4hqrn\n",
              "BXfct1sp/R9rwl46g5wbuZytmc1Z8UbYbNc1Zil5u44b96eoCCEkdJYssiqvMET19AKbdsf8PRZH\n",
              "ZSz/yjuunXv9NeX2Y5qIKvxM1v7PMCKGyCRskJrZUgYJ0GJkqPtQ0VKvGLvMGH97oV8TnHjudQhX\n",
              "IbuUopUotnsi9lmkGLzVIrgWu+RmpMqAkOK51baVSpsl7sfGiejVvbN9G2HnSAw8QlSABmyUeqCt\n",
              "QJWNpUlAk5aMljB1r4ypa3DWllO2NsKnW959hgzF2eLxGO/QDF5mNszqTnShaDUuA7s4HRMzCyDH\n",
              "uh0gGiK3beHJHF0YW4JKQ2lz1VRLMfFb/7iuy8MLvyiKBfTGM6JFLHqTGIqatBIdjxGsLaUeqeiQ\n",
              "hx+/KQU2Suds7fURNThQC5ls8QTkI0dj0+tTkY10dNoWogZoRYm7KG2ni/CATS3nFfJDPyhsO4h8\n",
              "eoEVgy6r43FWYle4dZhABwxDijtwPoYeiRo2Jn2DF8X8lhd0dLBBhr/V2zAtM1cWRGkcwtnq92aQ\n",
              "sSN4suYjp6O4xlng+Tpeg2tXj7g2grBpxd5fzf8kvAaLdfwCD2GXJ5Hdslx6Dhh8j30KCD4b8vrI\n",
              "lx0ax9HXG9hQpiQIsAk2ruvKMEc6SsekUYa6EdmaZLjNTDSN+lOaqJM5fZst0bmHOFPMJtevdwAE\n",
              "vaWcfr6+cXP2xkxhjXJYukGktvpp0vBN8/q9dXiQw1eixrIaHD2hicJWOZZWrpuRCYoZs5GNs0Lm\n",
              "EwsLmkQl/Qzai114ohD/PMZG3PIrpBipVb8bUuFBPaAaUqgrjMsyja75G1yMSkw2+OtaVP8r3lN1\n",
              "s0F4aMCwu6XWVhDEq6avGGqd+5BTD/dghaHuEuGtfZQRRBkLJuLBBxb4M+huh6nBZfSNZskOEgKL\n",
              "GLyMDo80JBfQViLcZr7qNRqXXaDboMcsYClXL3qWcN0Ihd2IRzgmWK3nXgQBam3tX89oUqyrx06I\n",
              "Qwj4dON9kvNztLn8I4A4Mwkiqto1amT8Y6uWq3oP88w3GfvwCFAZhi7aHjrgD5e6PkLbV6nlROjz\n",
              "BIOaL4aNKL1sRvpivuSQW8ISaSN7t6PsRnGBSeZ6+bhp8I8TsCKs73ThXyC1dNcC4dFf/7EombuA\n",
              "a7z9LhSsN0J6zGyJ9UF/rDcvOu8V3i34sl94gaiI5p0r05/lEK2KMMc/jDV6JgkUq2xf7wYSMd08\n",
              "wEwEgxtsXqXtNoi5DEX7ylpe48TJSKWRqZHyI6r6xqy+5TJ9C4Kia2G+jpnnGQQze4lwxSmIbg/h\n",
              "DK3iN21JDhn/aMvqxT3ZsFrHTHln2vhOVwixqHA+gaVx8JbtN2lftTvpSWyeD2oPl72Fsy4xyYFZ\n",
              "c4x6Qqspm4cUh57mmmjAdZmNuKXbvbEkHyX/rKeVi/ZAMpH+nk5XoAaPWLxH/G70vBHCiicsHcIJ\n",
              "kBLKf1DLsTRuXUvLlVTrJOsyu3JAzSdBHnYAeAKJ2U7BmCGKBHlcKla2hNVd0GPkxuuzgAAAIyqI\n",
              "gfYAADihAAACd0GaIWxDf/6nhAAAXX3hLTBfhiYoABxsRt4rvvz4HXV56Ll1OF6z/MI23tTs6xyb\n",
              "vepY/mcnRR4rgcc41wP3sUeYsJ8Fl7XnCobAMRBqrWRPXzL3kRtyljqb8UzpOfSceG4hn8o7tneh\n",
              "xACi/PcWIRDdRpqU2lM68heUvSbhKYd322k/VDg3gIP7zf+GuLAJwy9N3J9ndWS2H/yw8Aff5oMP\n",
              "z2rl8PxaLEbqshtnOoyzTRCa0YNFugeA5s52xuT66v0+rbUE0r5HthSWvvFyMqBp2JMujzka09K3\n",
              "IoliEePLOU2cL1cRiFJ9TDDjptPZ63Y5iw3OE6nij88rzJ/SCD2eqw+Umv/9snnQGvSNWc1kwhoq\n",
              "jlRya78nCrlKAppM/rV3z6tbTxfSpMkHhPC/+kxHJ0ItxwnT1zh4ZosemowT9miQuNOxREJjobV6\n",
              "Ep8SbQfO3B4I0sRLQffyfkMlvrio0N++o8mcpQULeWra1aqcqJTXHkzq/DUjqTEXGCDzYPAcz7sh\n",
              "+w49LTouJRiYgfRP748sSZHDZPViq2oziUhZX2d6Pz/yf2fbnvTvuDrzFLma7Opns4gpuFhZXE8W\n",
              "QYnspmcfAPBjvXM3NpywmWDbWfVa8Yg9253WoKE15JCWuadU8e4+x3WCAf95FUQc+UXUnh1hAmF0\n",
              "UyKDqBxGvqlZBJ1QtualcKRarKdP/Yh2MhPJCFsFuNiWICP8zBOFCcAjzlAVEXNUKklSt3K8DeQr\n",
              "z/97ZYhm7vtwxY0rhkNF6vj8Q4hT/UPSRT5BvRQKVwSH/Bz0uTOan7bFjVCMzG0YhYFKlGQK4s7G\n",
              "0S6ac+7Yg3bvkg5dYeAAAAJNQZpFPCGTKYQz//6eEAABYccgAAV9DOq2/a4S5grh96lMbY+BGV52\n",
              "20Qu3g1b8eO+ySKo0d2gqEOpHssFls7RNNTGuGIVCfKk5j+Ud7YkORJF1YdZwcaNGxXZ5+nXj11D\n",
              "wGo7TwaBNb+vpJVK8zjDQuur7M4lCd/8tWmtrTwC7v+GSEKmr7K9hxc2TXLYElINWMfTi/kFSlBD\n",
              "mV228LAUVQdRgMA8/lSByrpmOwtCYR8TDb6L9byon3NlKGPYqVyL8bFW6dE5n1TlM55KEiRV8HF/\n",
              "q7S8KAiE4ErDYbe38JZlu2XFc3leAfFVkTXMbYmRg5Xwc0OFup0nCW/tgh100g3BGPIEIfmlFnGt\n",
              "cN+EwMMHozrIKUafYabdtJietUx/ESxgJqBcaozCj6NRzZY3Vtg3Bd4KzbDkVnp+XqB25dA2Dga7\n",
              "pdYSFIRZTiQVBnr/Trmn8ACq98NXhGbNNy7XObfGyg2//zDyMbJCZtnA1UZPMdqVFuQ5W+KfG7s+\n",
              "7SVSr81YWsU3BAKueny3m3i+pZYr3yOJdjqB3dQWTwDE7X4sKV9A5JtBqpXltLGVreEP/mV/iOUQ\n",
              "Dcys09b3L3g7wpJuFctwqF5sGOVJqPKNR9aFuG0/iMk9qK/wHgAABMIZwJWqFFVYSNraxZNMHbbJ\n",
              "a4KovVTprwRnnPP/pG6xo1/U3RRlcIPGE1umWB+qaFcrTKO4CAksZrLPvmeq1CFHLHIBmtkatFvW\n",
              "l6Dbh7Zx0F6HwAMLIeRgI1E/08BxxQH8HCUwTBABYzEff2eIkQAAASdBnmNqU8L/AAA2sivTo0qA\n",
              "DDHQRdvKWP6LFQxzGVnewXf4At22+qJvM/y5WcmgdOJE/+ErBC4ckQSoV0OdXB0Ku0QUzeGgAkc7\n",
              "iKeGY9iInp8O3Cam7m7RZn6kOEPUlPly+zTu+Ig3W9t92bjiyovqJLAVPmGXyQmIZUg67z86zixs\n",
              "RoSX0sTL472KBN3UdJ3AEj3teun0QAOjc7j3n2Kcyqx0uehrB6TCk6XAulm96ap6vN/u/ofgb4TZ\n",
              "BopbORcUfZaG6yNqIOp5b7Hae0e7n3Mpm+uDhGa1wnN3VenfUgdeuu7flrufSnmZebfvbqoyDwK8\n",
              "uJqq23xVBNihuMdWQ9tR8sa5cobYpXGEkrgKK0T1Is/HHx1RXHmAOYQJAc4qhfFRYXNUAAAAvQGe\n",
              "gnRCvwAAS3wZCR8xVOqaThQSx+YpMjEQ33gg83KdTcy5glzO3PZBq4YdHLYbUzNyPthYvE6TayRj\n",
              "wqjk6wlicxwgKOjyp6X50uLrfG8euQOlEQul9jxFaYGaCM8OAGuZICRacKe34Oom/okJW1f9kjMW\n",
              "A5gtd4JXT/I3uvi11YDdztvEf0i8ou8syCa0rr3gefYE2zQ7TsBpqp5aa9y2adfNfs9SRhRONTYq\n",
              "kRsyEXSwo/wkENSifOBnwQAAAJsBnoRqQr8AAEteW1IRjS1xaShlsQ9LdVNqSTgekiWWucun9AB9\n",
              "MUi9gJk0IGkKWhkikEQnmOsDRahvHyCrNmxrMkQHzMEZR8tW6khMsGoQ388NnQDqlYvQ0JQZtlxL\n",
              "CP//LVZC24l0BPmerjSgrx2ru/B+nfYWhfEm3smO5OwAZQMATAKjl4319Fek8SYc6MXCT+i3QACf\n",
              "PvCPvQAAAY5BmolJqEFomUwIV//+OEAABT44siMAFtRTe5sUfloQDd0ccyiJs/BF76HUQndYJS1z\n",
              "kx0BEFn8h2TorDsU7jyCrmPmsHnCMbsYGrcZVBu2GuKtaLVwWJuJCLGRucQqBz4U90wMD3VZc2J5\n",
              "J7INDlyWd8gD+PIfv9kPty5wMWTmS/XHleoEyve6zj90vbsNPFtNnecBacKLxX26r4Hp9DnQJ4z4\n",
              "6rxELou91FN2r8vciYH1bQ20bxMbQmwFP48OUcf2zSR8krvl+JDPSzEhJGceUNzd20GtaWhjb6xC\n",
              "IghnKmnbCKSodqvVDKL1RG4HgBHsiTrLA8lr8+J7ZFysGdBP3DV/py83KQTU5Xfn6FDFaDfizXft\n",
              "wjk/pbDEjTCRQoxAkOiPs6kthcIraPS1R7vKbX/6JwxMJwiUbyPUXp1CxL42bTbwaLx3NZAGQCCd\n",
              "UxrHuiKRP146UX1T17VGU8nYfk0h5IQtuq+SAJ6MBYfUkT38J6AnX4wgH5kzBYKPriauFlYAN5FR\n",
              "d/aQ2/Nk3QAAANNBnqdFESwv/wAANMpkPdxmggWEVTCidpsAEr0r5H//ENS+j8aLEiygRsaA0ZMu\n",
              "0brmiZB7Xy+hwPMa4eARqBDtPfyB5/BDQ4YMbxzzxmTfWby3GdUmL45pWsXry+KZnFpKDP6/QbUo\n",
              "uP7rlVAbtUXeOpM9BsPEw7mQaVHrJnRm/1N3EsMhgwoTRM8eq1+zEn3fEOcjOttO9mypu9XbdwiZ\n",
              "+7mwPFytksPKDSnVHfmd/z0E9gbMzogOz7ZqPfvC8SbaOhoIBzAU32xRLREpCQFkgOVpAAABNQGe\n",
              "xnRCvwAAS1n1qMPuNGiPaKKlaAEIwHDyfV6M/d8ZhJjN9DtQA2lIbTPrgllu9WIGcAD2L/7Qi4rU\n",
              "ZxT9TETr+Dm4RTpup6YZedGQXnbKnXcWjTEPvZiLjbcIJOHLrUqyQxm/A+ePUyULM1l+T8bxvxfj\n",
              "Sr6HPrPEyzDAFl3oODYuwXJaUhdSmm98VuDuRxB2GAprmCR+PwmB4ZqXZRCavdEOSfutKz5+xJ8X\n",
              "gnZP9OBpjKU8w+Z8XPTn3NJXogajqMPoW+Z9GzqbpRrZmUsoQn4V4yRlCZ9bWXjxj8ijDe19z1tO\n",
              "6cfIOeOD3vAljbd/AdZdbKqtQ4odWKMrUz+vgjNeXpDxcm4aCgk7X+x/PgZejpnybV+IvoQ7psCQ\n",
              "UgNUOmy5i4/kpOmeNjB94GHF7bIrQwAAALABnshqQr8AAEtzQRZO0B2NgP4ZGRP0psiEO0AG7CE1\n",
              "53GujvhEWoC8lqrI9KcedVdBeWrxVxmf4DCbQ2Mlp6fUVSdqH1m/Qr4i8FWJzNbMjHznWeeVsS4v\n",
              "lQKcqO8JPX07YlBRVOcHGa5pN0lYIqqALK1FcXIxRGVSdB2DX6JaFoHznDG3EC+V9tQh1+o2BGNN\n",
              "fXuVdBOwT3qnIl6wKjsjJPZOaXXIAPpSR4Z95A9m5gAAA6Jtb292AAAAbG12aGQAAAAAAAAAAAAA\n",
              "AAAAAAPoAAABkAABAAABAAAAAAAAAAAAAAAAAQAAAAAAAAAAAAAAAAAAAAEAAAAAAAAAAAAAAAAA\n",
              "AEAAAAAAAAAAAAAAAAAAAAAAAAAAAAAAAAAAAAAAAAACAAACzHRyYWsAAABcdGtoZAAAAAMAAAAA\n",
              "AAAAAAAAAAEAAAAAAAABkAAAAAAAAAAAAAAAAAAAAAAAAQAAAAAAAAAAAAAAAAAAAAEAAAAAAAAA\n",
              "AAAAAAAAAEAAAAACgAAAAeAAAAAAACRlZHRzAAAAHGVsc3QAAAAAAAAAAQAAAZAAAAQAAAEAAAAA\n",
              "AkRtZGlhAAAAIG1kaGQAAAAAAAAAAAAAAAAAADIAAAAUAFXEAAAAAAAtaGRscgAAAAAAAAAAdmlk\n",
              "ZQAAAAAAAAAAAAAAAFZpZGVvSGFuZGxlcgAAAAHvbWluZgAAABR2bWhkAAAAAQAAAAAAAAAAAAAA\n",
              "JGRpbmYAAAAcZHJlZgAAAAAAAAABAAAADHVybCAAAAABAAABr3N0YmwAAAC3c3RzZAAAAAAAAAAB\n",
              "AAAAp2F2YzEAAAAAAAAAAQAAAAAAAAAAAAAAAAAAAAACgAHgAEgAAABIAAAAAAAAAAEAAAAAAAAA\n",
              "AAAAAAAAAAAAAAAAAAAAAAAAAAAAAAAAAAAY//8AAAA1YXZjQwFkAB7/4QAYZ2QAHqzZQKA9oQAA\n",
              "AwABAAADADIPFi2WAQAGaOvjyyLA/fj4AAAAABx1dWlka2hA8l8kT8W6OaUbzwMj8wAAAAAAAAAY\n",
              "c3R0cwAAAAAAAAABAAAACgAAAgAAAAAUc3RzcwAAAAAAAAABAAAAAQAAAFhjdHRzAAAAAAAAAAkA\n",
              "AAACAAAEAAAAAAEAAAoAAAAAAQAABAAAAAABAAAAAAAAAAEAAAIAAAAAAQAACgAAAAABAAAEAAAA\n",
              "AAEAAAAAAAAAAQAAAgAAAAAcc3RzYwAAAAAAAAABAAAAAQAAAAoAAAABAAAAPHN0c3oAAAAAAAAA\n",
              "AAAAAAoAAAfaAAACewAAAlEAAAErAAAAwQAAAJ8AAAGSAAAA1wAAATkAAAC0AAAAFHN0Y28AAAAA\n",
              "AAAAAQAAADAAAABidWR0YQAAAFptZXRhAAAAAAAAACFoZGxyAAAAAAAAAABtZGlyYXBwbAAAAAAA\n",
              "AAAAAAAAAC1pbHN0AAAAJal0b28AAAAdZGF0YQAAAAEAAAAATGF2ZjU4Ljc2LjEwMA==\n",
              "\">\n",
              "  Your browser does not support the video tag.\n",
              "</video>"
            ]
          },
          "metadata": {},
          "execution_count": 10
        },
        {
          "output_type": "display_data",
          "data": {
            "text/plain": [
              "<Figure size 640x480 with 1 Axes>"
            ],
            "image/png": "[encoded data removed]"
          },
          "metadata": {}
        }
      ]
    },
    {
      "cell_type": "code",
      "source": [
        "anim.save(\"spike_mnist_test.mp4\")\n"
      ],
      "metadata": {
        "id": "MaQ_ecqTqkRM"
      },
      "execution_count": null,
      "outputs": []
    }
  ]
}